{
 "cells": [
  {
   "cell_type": "code",
   "execution_count": 1,
   "id": "6b0e4cde",
   "metadata": {},
   "outputs": [],
   "source": [
    "%matplotlib inline"
   ]
  },
  {
   "cell_type": "code",
   "execution_count": 65,
   "id": "7585e879",
   "metadata": {},
   "outputs": [],
   "source": [
    "import matplotlib.cm as cm\n",
    "from matplotlib import lines as mlines"
   ]
  },
  {
   "cell_type": "code",
   "execution_count": 18,
   "id": "8182a502",
   "metadata": {},
   "outputs": [],
   "source": [
    "import fsps\n",
    "\n",
    "LSST_BANDS = fsps.filters.find_filter('lsst')\n",
    "filter_wave_collector = [fsps.filters.get_filter(band).transmission[0] for band in LSST_BANDS]\n",
    "filter_trans_collector = [fsps.filters.get_filter(band).transmission[1] for band in LSST_BANDS]\n",
    "\n",
    "def get_mags_and_spec(Av, zmet_indx=20):\n",
    "    _sp = fsps.StellarPopulation(zcontinuous=0, zmet=zmet_indx, dust_type=2, dust2=Av, add_dust_emission=False)\n",
    "    _wave, _fluxes = _sp.get_spectrum(peraa=True)\n",
    "    _mags = _sp.get_mags(bands=LSST_BANDS)\n",
    "    return _wave, _fluxes, _mags\n"
   ]
  },
  {
   "cell_type": "code",
   "execution_count": 19,
   "id": "30e13467",
   "metadata": {},
   "outputs": [],
   "source": [
    "avray = [0, 0.1, 0.25, 0.5, 1, 2, 4, 10]\n",
    "results = [get_mags_and_spec(av) for av in avray]\n",
    "wave_spec = results[0][0]"
   ]
  },
  {
   "cell_type": "code",
   "execution_count": 35,
   "id": "d12eaacf",
   "metadata": {},
   "outputs": [],
   "source": [
    "from dsps.attenuation_kernels import _flux_ratio, calzetti00_k_lambda, RV_C00"
   ]
  },
  {
   "cell_type": "code",
   "execution_count": null,
   "id": "515acf9d",
   "metadata": {},
   "outputs": [],
   "source": [
    "colors=cm.coolwarm(np.linspace(0, 1, len(avray))) # red first\n",
    "label_pat = \"Av = {0:.2f}\"\n",
    "\n",
    "fig, (ax0, ax1) = plt.subplots(2, 1, figsize=(6, 8), sharex=True)\n",
    "# fig.tight_layout(pad=3.0)\n",
    "fig.subplots_adjust(hspace=0)\n",
    "xlim = ax0.set_xlim(900, 5e4)\n",
    "ylim = ax0.set_ylim(1e-3, 2)\n",
    "ylim = ax1.set_ylim(-.25, 0.25)\n",
    "__=ax0.loglog()\n",
    "dsps_attenuation_collector = []\n",
    "\n",
    "for iav, av in enumerate(avray):\n",
    "    iage = 80\n",
    "    fsps_flux_ratio = results[iav][1][iage, :] / results[0][1][iage, :]\n",
    "    __=ax0.plot(wave_spec, fsps_flux_ratio, color=colors[iav])\n",
    "    \n",
    "    \n",
    "    wave_spec_micron = wave_spec/10_000\n",
    "    k = calzetti00_k_lambda(wave_spec_micron, RV_C00)\n",
    "    dsps_flux_ratio = _flux_ratio(k, RV_C00, av)\n",
    "    __=ax0.plot(wave_spec, dsps_flux_ratio, '--', color=colors[iav])\n",
    "    dsps_attenuation_collector.append(dsps_attenuation)\n",
    "\n",
    "    __=ax1.plot(wave_spec, (dsps_flux_ratio - fsps_flux_ratio), color=colors[iav])\n",
    "    \n",
    "title = ax0.set_title(r'${\\rm attenuation\\ curve\\ validation}$')\n",
    "title = ax0.set_ylabel(r'$D(\\lambda)\\equiv F_{\\rm dust}/F_{\\rm no-dust}$')\n",
    "xlabel = ax1.set_xlabel(r'$\\lambda\\ [\\AA]$')\n",
    "xlabel = ax1.set_ylabel(r'$D_{\\rm DSPS}(\\lambda)-D_{\\rm FSPS}(\\lambda)$')\n",
    "\n",
    "\n",
    "red_line=mlines.Line2D([],[],ls='-',c=mred,label=r'$A_{\\rm V}=10$')\n",
    "blue_line=mlines.Line2D([],[],ls='-',c=mblue,label=r'$A_{\\rm V}=0$')\n",
    "solid_line=mlines.Line2D([],[],ls='-',c='k',label=r'${\\rm FSPS}$')\n",
    "dashed_line=mlines.Line2D([],[],ls='--',c='k',label=r'${\\rm DSPS}$')\n",
    "first_legend=ax0.legend(handles=[blue_line, red_line, dashed_line, solid_line])\n",
    "fig.savefig('dsps_attenuation_validation.png', bbox_extra_artists=[xlabel], bbox_inches='tight', dpi=200)"
   ]
  },
  {
   "cell_type": "code",
   "execution_count": null,
   "id": "06c356b8",
   "metadata": {},
   "outputs": [],
   "source": []
  },
  {
   "cell_type": "code",
   "execution_count": null,
   "id": "8a73d592",
   "metadata": {},
   "outputs": [],
   "source": []
  },
  {
   "cell_type": "code",
   "execution_count": null,
   "id": "e2df1148",
   "metadata": {},
   "outputs": [],
   "source": []
  },
  {
   "cell_type": "code",
   "execution_count": null,
   "id": "1cbb2e94",
   "metadata": {},
   "outputs": [],
   "source": []
  }
 ],
 "metadata": {
  "kernelspec": {
   "display_name": "Python 3 (ipykernel)",
   "language": "python",
   "name": "python3"
  },
  "language_info": {
   "codemirror_mode": {
    "name": "ipython",
    "version": 3
   },
   "file_extension": ".py",
   "mimetype": "text/x-python",
   "name": "python",
   "nbconvert_exporter": "python",
   "pygments_lexer": "ipython3",
   "version": "3.8.10"
  }
 },
 "nbformat": 4,
 "nbformat_minor": 5
}
