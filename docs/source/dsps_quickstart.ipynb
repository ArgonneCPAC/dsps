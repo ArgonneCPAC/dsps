{
 "cells": [
  {
   "cell_type": "markdown",
   "id": "ceea0b63",
   "metadata": {},
   "source": [
    "## Quickstart Guide to DSPS"
   ]
  },
  {
   "cell_type": "code",
   "execution_count": null,
   "id": "aa1cec7e",
   "metadata": {},
   "outputs": [],
   "source": [
    "from dsps import load_ssp_templates\n",
    "ssp_data = load_ssp_templates(dummy=True)\n",
    "\n",
    "print(ssp_data._fields)"
   ]
  },
  {
   "cell_type": "code",
   "execution_count": null,
   "id": "e4b059c9",
   "metadata": {},
   "outputs": [],
   "source": []
  }
 ],
 "metadata": {
  "kernelspec": {
   "display_name": "Python 3 (ipykernel)",
   "language": "python",
   "name": "python3"
  },
  "language_info": {
   "codemirror_mode": {
    "name": "ipython",
    "version": 3
   },
   "file_extension": ".py",
   "mimetype": "text/x-python",
   "name": "python",
   "nbconvert_exporter": "python",
   "pygments_lexer": "ipython3",
   "version": "3.9.16"
  }
 },
 "nbformat": 4,
 "nbformat_minor": 5
}
