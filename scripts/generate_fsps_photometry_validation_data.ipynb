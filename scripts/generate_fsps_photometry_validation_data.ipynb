{
 "cells": [
  {
   "cell_type": "code",
   "execution_count": 1,
   "id": "4999e945",
   "metadata": {},
   "outputs": [],
   "source": [
    "%matplotlib inline"
   ]
  },
  {
   "cell_type": "code",
   "execution_count": 2,
   "id": "ef8a02ca",
   "metadata": {},
   "outputs": [],
   "source": [
    "import fsps\n",
    "\n",
    "LSST_BANDS = fsps.filters.find_filter('lsst')\n",
    "zobs_ray = np.linspace(0.25, 4, 25)\n",
    "dt_mags = np.dtype([('u', 'f4'), ('g', 'f4'), ('r', 'f4'), ('i', 'f4'), ('z', 'f4'), ('y', 'f4')])\n",
    "dt_ssp = np.dtype([('wave', 'f4'), ('flux', 'f4')])\n",
    "\n",
    "magpat = \"/Users/aphearin/work/repositories/python/dsps/dsps/data/fsps_lsst_mags_zobs_imet_{0}_iage_{1}\"\n",
    "ssppat = \"/Users/aphearin/work/repositories/python/dsps/dsps/data/fsps_ssp_imet_{0}_iage_{1}\"\n",
    "\n",
    "np.save(\"/Users/aphearin/work/repositories/python/dsps/dsps/data/fsps_lsst_mags_zobs.npy\", zobs_ray)"
   ]
  },
  {
   "cell_type": "code",
   "execution_count": 3,
   "id": "ff7d96a6",
   "metadata": {},
   "outputs": [
    {
     "name": "stdout",
     "output_type": "stream",
     "text": [
      "(25, 6)\n"
     ]
    }
   ],
   "source": [
    "imet, iage = 2, 90\n",
    "sp = fsps.StellarPopulation(zcontinuous=0, zmet=imet, add_neb_emission=1)\n",
    "mags = np.array([sp.get_mags(bands=LSST_BANDS, redshift=z) for z in zobs_ray])[:, iage, :]\n",
    "ssp_wave, ssp_fluxes = sp.get_spectrum()\n",
    "ssp_flux = ssp_fluxes[iage, :]\n",
    "print(mags.shape)\n",
    "\n",
    "arr = np.zeros(zobs_ray.size, dtype=dt_mags)\n",
    "for iband, band in enumerate(dt_mags.names):\n",
    "    arr[band] = mags[:, iband]\n",
    "np.save(magpat.format(imet, iage), arr)\n",
    "\n",
    "arr = np.zeros(ssp_wave.size, dtype=dt_ssp)\n",
    "arr['wave'] = ssp_wave\n",
    "arr['flux'] = ssp_flux\n",
    "np.save(ssppat.format(imet, iage), arr)\n"
   ]
  },
  {
   "cell_type": "code",
   "execution_count": 4,
   "id": "97382df3",
   "metadata": {},
   "outputs": [
    {
     "name": "stdout",
     "output_type": "stream",
     "text": [
      "(25, 6)\n"
     ]
    }
   ],
   "source": [
    "imet, iage = 20, 5\n",
    "sp = fsps.StellarPopulation(zcontinuous=0, zmet=imet, add_neb_emission=1)\n",
    "mags = np.array([sp.get_mags(bands=LSST_BANDS, redshift=z) for z in zobs_ray])[:, iage, :]\n",
    "ssp_wave, ssp_fluxes = sp.get_spectrum()\n",
    "ssp_flux = ssp_fluxes[iage, :]\n",
    "print(mags.shape)\n",
    "\n",
    "arr = np.zeros(zobs_ray.size, dtype=dt_mags)\n",
    "for iband, band in enumerate(dt_mags.names):\n",
    "    arr[band] = mags[:, iband]\n",
    "np.save(magpat.format(imet, iage), arr)\n",
    "\n",
    "arr = np.zeros(ssp_wave.size, dtype=dt_ssp)\n",
    "arr['wave'] = ssp_wave\n",
    "arr['flux'] = ssp_flux\n",
    "np.save(ssppat.format(imet, iage), arr)\n"
   ]
  },
  {
   "cell_type": "code",
   "execution_count": null,
   "id": "a8037e22",
   "metadata": {},
   "outputs": [],
   "source": []
  },
  {
   "cell_type": "code",
   "execution_count": 5,
   "id": "0ce9ead7",
   "metadata": {},
   "outputs": [
    {
     "name": "stderr",
     "output_type": "stream",
     "text": [
      "WARNING:absl:No GPU/TPU found, falling back to CPU. (Set TF_CPP_MIN_LOG_LEVEL=0 and rerun for more info.)\n"
     ]
    }
   ],
   "source": [
    "from dsps.photometry_kernels import _calc_obs_mag_no_dimming, _calc_rest_mag, _calc_obs_mag\n",
    "from dsps.flat_wcdm import FSPS_COSMO\n",
    "\n",
    "_a = (*[None] * 4, 0, *[None] * 5)\n",
    "_calc_obs_mag_vmap_z = jjit(jvmap(_calc_obs_mag, in_axes=_a))\n"
   ]
  },
  {
   "cell_type": "code",
   "execution_count": 6,
   "id": "e559f637",
   "metadata": {},
   "outputs": [],
   "source": [
    "band_wave, band_trans = fsps.filters.get_filter('lsst_u').transmission"
   ]
  },
  {
   "cell_type": "code",
   "execution_count": 7,
   "id": "830c48c0",
   "metadata": {},
   "outputs": [
    {
     "name": "stdout",
     "output_type": "stream",
     "text": [
      "(25,)\n"
     ]
    }
   ],
   "source": [
    "args = (ssp_wave, ssp_flux, band_wave, band_trans, zobs_ray, *FSPS_COSMO)\n",
    "pred_mags = _calc_obs_mag_vmap_z(*args)\n",
    "print(pred_mags.shape)"
   ]
  },
  {
   "cell_type": "code",
   "execution_count": 8,
   "id": "9eaef9b4",
   "metadata": {},
   "outputs": [
    {
     "data": {
      "image/png": "[encoded data removed]",
      "text/plain": [
       "<Figure size 432x288 with 1 Axes>"
      ]
     },
     "metadata": {
      "needs_background": "light"
     },
     "output_type": "display_data"
    }
   ],
   "source": [
    "fig, ax = plt.subplots(1, 1)\n",
    "__=ax.plot(zobs_ray, mags[:, 0])\n",
    "__=ax.plot(zobs_ray, pred_mags)\n"
   ]
  },
  {
   "cell_type": "code",
   "execution_count": 9,
   "id": "1792059c",
   "metadata": {},
   "outputs": [
    {
     "data": {
      "text/plain": [
       "True"
      ]
     },
     "execution_count": 9,
     "metadata": {},
     "output_type": "execute_result"
    }
   ],
   "source": [
    "np.allclose(mags[:, 0], pred_mags, atol=0.1)"
   ]
  },
  {
   "cell_type": "code",
   "execution_count": 10,
   "id": "06e4b1fc",
   "metadata": {},
   "outputs": [
    {
     "data": {
      "image/png": "[encoded data removed]",
      "text/plain": [
       "<Figure size 432x288 with 1 Axes>"
      ]
     },
     "metadata": {
      "needs_background": "light"
     },
     "output_type": "display_data"
    }
   ],
   "source": [
    "fig, ax = plt.subplots(1, 1)\n",
    "ylim = ax.set_ylim(-0.5, 0.5)\n",
    "__=ax.plot(zobs_ray, pred_mags-mags[:, 0])"
   ]
  },
  {
   "cell_type": "code",
   "execution_count": null,
   "id": "e47e87cd",
   "metadata": {},
   "outputs": [],
   "source": []
  }
 ],
 "metadata": {
  "kernelspec": {
   "display_name": "Python 3 (ipykernel)",
   "language": "python",
   "name": "python3"
  },
  "language_info": {
   "codemirror_mode": {
    "name": "ipython",
    "version": 3
   },
   "file_extension": ".py",
   "mimetype": "text/x-python",
   "name": "python",
   "nbconvert_exporter": "python",
   "pygments_lexer": "ipython3",
   "version": "3.8.10"
  }
 },
 "nbformat": 4,
 "nbformat_minor": 5
}
